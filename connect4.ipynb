{
 "cells": [
  {
   "cell_type": "code",
   "execution_count": 1,
   "metadata": {},
   "outputs": [],
   "source": [
    "import math\n",
    "from collections import Counter\n",
    "import numpy as np"
   ]
  },
  {
   "cell_type": "code",
   "execution_count": 2,
   "metadata": {
    "pycharm": {
     "name": "#%%\n"
    }
   },
   "outputs": [],
   "source": [
    "\n",
    "NUM_COLUMNS = 7\n",
    "COLUMN_HEIGHT = 6\n",
    "FOUR = 4\n",
    "MAX_DEPTH = 4"
   ]
  },
  {
   "cell_type": "code",
   "execution_count": 3,
   "metadata": {
    "pycharm": {
     "name": "#%%\n"
    }
   },
   "outputs": [],
   "source": [
    "def valid_moves(board):\n",
    "    \"\"\"Returns columns where a disc may be played\"\"\"\n",
    "    return [n for n in range(NUM_COLUMNS) if board[n, COLUMN_HEIGHT - 1] == 0]\n",
    "\n",
    "\n",
    "def play(board, column, player):\n",
    "    \"\"\"Updates `board` as `player` drops a disc in `column`\"\"\"\n",
    "    (index,) = next((i for i, v in np.ndenumerate(board[column]) if v == 0))\n",
    "    board[column, index] = player\n",
    "\n",
    "\n",
    "def take_back(board, column):\n",
    "    \"\"\"Updates `board` removing top disc from `column`\"\"\"\n",
    "    (index,) = [i for i, v in np.ndenumerate(board[column]) if v != 0][-1]\n",
    "    board[column, index] = 0\n",
    "\n",
    "\n",
    "def four_in_a_row(board, player):\n",
    "    \"\"\"Checks if `player` has a 4-piece line\"\"\"\n",
    "    return (\n",
    "        any(\n",
    "            all(board[c, r] == player)\n",
    "            for c in range(NUM_COLUMNS)\n",
    "            for r in (list(range(n, n + FOUR)) for n in range(COLUMN_HEIGHT - FOUR + 1))\n",
    "        )\n",
    "        or any(\n",
    "            all(board[c, r] == player)\n",
    "            for r in range(COLUMN_HEIGHT)\n",
    "            for c in (list(range(n, n + FOUR)) for n in range(NUM_COLUMNS - FOUR + 1))\n",
    "        )\n",
    "        or any(\n",
    "            np.all(board[diag] == player)\n",
    "            for diag in (\n",
    "                (range(ro, ro + FOUR), range(co, co + FOUR))\n",
    "                for ro in range(0, NUM_COLUMNS - FOUR + 1)\n",
    "                for co in range(0, COLUMN_HEIGHT - FOUR + 1)\n",
    "            )\n",
    "        )\n",
    "        or any(\n",
    "            np.all(board[diag] == player)\n",
    "            for diag in (\n",
    "                (range(ro, ro + FOUR), range(co + FOUR - 1, co - 1, -1))\n",
    "                for ro in range(0, NUM_COLUMNS - FOUR + 1)\n",
    "                for co in range(0, COLUMN_HEIGHT - FOUR + 1)\n",
    "            )\n",
    "        )\n",
    "    )\n"
   ]
  },
  {
   "cell_type": "code",
   "execution_count": 4,
   "metadata": {
    "pycharm": {
     "name": "#%%\n"
    }
   },
   "outputs": [],
   "source": [
    "from itertools import product\n",
    "\n",
    "\n",
    "def calculate_board_hash (board):\n",
    "    cnt =\"\"\n",
    "    for i,j in product(range(NUM_COLUMNS), range(COLUMN_HEIGHT)):\n",
    "        if board[i][j]==1:\n",
    "          cnt+=\"2\"\n",
    "        else:\n",
    "            if board[i][j]==-1:\n",
    "                cnt+=\"1\"\n",
    "            else: cnt+=\"0\"\n",
    "    return cnt\n",
    "\n",
    "def _mc(board, player):\n",
    "    p = -player\n",
    "    while valid_moves(board):\n",
    "        p = -p\n",
    "        c = np.random.choice(valid_moves(board))\n",
    "        play(board, c, p)\n",
    "        if four_in_a_row(board, p):\n",
    "            return p\n",
    "    return 0\n",
    "\n",
    "\n",
    "def montecarlo(board, player):\n",
    "    montecarlo_samples = 100\n",
    "    cnt = Counter(_mc(np.copy(board), player) for _ in range(montecarlo_samples))\n",
    "    return (cnt[1] - cnt[-1]) / montecarlo_samples\n",
    "\n",
    "\n",
    "def eval_board(board, player):\n",
    "    if four_in_a_row(board, 1):\n",
    "        # Alice won\n",
    "        return 1\n",
    "    elif four_in_a_row(board, -1):\n",
    "        # Bob won\n",
    "        return -1\n",
    "    else:\n",
    "        # Not terminal, let's simulate...\n",
    "        d = {'key': 'value'}\n",
    "        bv = float('nan')\n",
    "        return minmax(board, player,0,bv,d)\n",
    "\n",
    "\n",
    "def minmax(board, player, depth,best_value, lut):\n",
    "    if calculate_board_hash(board) in lut:\n",
    "        print (\"LUT hit!\")\n",
    "        return  -1,lut[calculate_board_hash(board)]\n",
    "    if four_in_a_row(board, player) == player:\n",
    "        lut[calculate_board_hash(board)] =player\n",
    "        return -1, player\n",
    "    possible_moves = valid_moves(board)\n",
    "    if not possible_moves:\n",
    "        lut[calculate_board_hash(board)] =0\n",
    "        return -1,0\n",
    "    depth+=1;\n",
    "    first_eval = 1\n",
    "    best_eval =float('NaN')\n",
    "    ret_val=-1\n",
    "    if depth > MAX_DEPTH:\n",
    "        return  -1,montecarlo(np.copy(board), -player)\n",
    "    for val in possible_moves:\n",
    "         play(board, val, player)\n",
    "         if first_eval:\n",
    "             first_eval =0\n",
    "             _,values=  minmax(np.copy(board), -player,depth,best_eval,lut)\n",
    "             best_eval= values*player\n",
    "             ret_val=val\n",
    "             if best_eval == 1:\n",
    "                 lut[calculate_board_hash(board)] =player\n",
    "                 return val,player\n",
    "         else:\n",
    "             _,values= minmax(np.copy(board), -player,depth,best_eval,lut)\n",
    "             best_eval=max(best_eval,values*player)\n",
    "             if best_eval==values:\n",
    "                 ret_val=val\n",
    "             if best_eval == 1:\n",
    "                 lut[calculate_board_hash(board)] =player\n",
    "                 return val,player\n",
    "             if not math.isnan(best_value) and best_eval>-best_value:\n",
    "                print(\"ALPHABETA pruning!\")\n",
    "                print(best_value)\n",
    "                lut[calculate_board_hash(board)] =best_eval*player\n",
    "                return val,best_eval*player\n",
    "    lut[calculate_board_hash(board)] =player\n",
    "    return ret_val,best_eval*player"
   ]
  },
  {
   "cell_type": "code",
   "execution_count": null,
   "metadata": {
    "pycharm": {
     "name": "#%%\n"
    }
   },
   "outputs": [
    {
     "name": "stdout",
     "output_type": "stream",
     "text": [
      "110000000000000000200000200000200000000000\n",
      "[[-1 -1  0  0  0  0]\n",
      " [ 0  0  0  0  0  0]\n",
      " [ 0  0  0  0  0  0]\n",
      " [ 1  0  0  0  0  0]\n",
      " [ 1  0  0  0  0  0]\n",
      " [ 1  0  0  0  0  0]\n",
      " [ 0  0  0  0  0  0]]\n",
      "LUT hit!\n",
      "LUT hit!\n",
      "LUT hit!\n",
      "LUT hit!\n",
      "LUT hit!\n",
      "LUT hit!\n",
      "LUT hit!\n",
      "LUT hit!\n",
      "LUT hit!\n"
     ]
    }
   ],
   "source": [
    "board = board = np.zeros((NUM_COLUMNS, COLUMN_HEIGHT), dtype=np.byte)\n",
    "\n",
    "\n",
    "\n",
    "\n",
    "play(board, 3, 1)\n",
    "\n",
    "play(board, 0, -1)\n",
    "\n",
    "play(board, 4, 1)\n",
    "\n",
    "play(board, 0, -1)\n",
    "\n",
    "play(board, 5, 1)\n",
    "print(calculate_board_hash(board))\n",
    "print(board)\n",
    "eval_board(board, 1)"
   ]
  },
  {
   "cell_type": "code",
   "execution_count": null,
   "metadata": {
    "pycharm": {
     "name": "#%%"
    }
   },
   "outputs": [],
   "source": []
  }
 ],
 "metadata": {
  "kernelspec": {
   "display_name": "Python 3 (ipykernel)",
   "language": "python",
   "name": "python3"
  },
  "language_info": {
   "codemirror_mode": {
    "name": "ipython",
    "version": 3
   },
   "file_extension": ".py",
   "mimetype": "text/x-python",
   "name": "python",
   "nbconvert_exporter": "python",
   "pygments_lexer": "ipython3",
   "version": "3.7.5"
  }
 },
 "nbformat": 4,
 "nbformat_minor": 1
}